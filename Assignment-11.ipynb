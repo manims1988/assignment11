{
 "cells": [
  {
   "cell_type": "markdown",
   "id": "04a31df9-f93c-4a9e-80dc-25dac544d7b1",
   "metadata": {},
   "source": [
    "1. What is the role of the 'else' block in a try-except statement? Provide an example scenario where it would be useful."
   ]
  },
  {
   "cell_type": "code",
   "execution_count": 8,
   "id": "ac83a6e3-2b96-4eb4-9272-5a63a4525926",
   "metadata": {},
   "outputs": [
    {
     "name": "stdout",
     "output_type": "stream",
     "text": [
      "else block will be executed only if there is no exeception in try block\n",
      "TRY BLOCK EXECUTED\n",
      "ELSE BLOCK EXECUTED\n"
     ]
    }
   ],
   "source": [
    "# Answer \n",
    "\n",
    "print('else block will be executed only if there is no exeception in try block')\n",
    "try:\n",
    "    print('TRY BLOCK EXECUTED')\n",
    "except:\n",
    "    print('EXCEPT BLOCK EXECUTED')\n",
    "else:\n",
    "    print('ELSE BLOCK EXECUTED')    "
   ]
  },
  {
   "cell_type": "markdown",
   "id": "bcecef42-c13b-48ab-a289-0955951dd4c4",
   "metadata": {},
   "source": [
    "2. Can a try-except block be nested inside another try-except block? Explain with an example."
   ]
  },
  {
   "cell_type": "code",
   "execution_count": 9,
   "id": "02f681d4-7b04-4503-8247-ddb2307e7444",
   "metadata": {},
   "outputs": [
    {
     "name": "stdout",
     "output_type": "stream",
     "text": [
      "Yes, try-except block be nested inside another try-except block\n",
      "Outer try block\n",
      "Middle try block\n"
     ]
    }
   ],
   "source": [
    "# Answer \n",
    "\n",
    "print('Yes, try-except block be nested inside another try-except block')\n",
    "try:\n",
    "    print('Outer try block')\n",
    "    try:\n",
    "        print('Middle try block')\n",
    "    except:\n",
    "        print('Middle except block')\n",
    "except:\n",
    "    print('Outer except block')"
   ]
  },
  {
   "cell_type": "markdown",
   "id": "813d5083-a09d-40fe-bfc9-5389ccfaf644",
   "metadata": {},
   "source": [
    "3. How can you create a custom exception class in Python? Provide an example that demonstrates its usage."
   ]
  },
  {
   "cell_type": "code",
   "execution_count": 18,
   "id": "4360af29-d51d-40d2-9395-f0c09846cf89",
   "metadata": {},
   "outputs": [
    {
     "name": "stdout",
     "output_type": "stream",
     "text": [
      "Error: Division by zero!\n"
     ]
    }
   ],
   "source": [
    "# Answer\n",
    "\n",
    "print('custom exception class in python')\n",
    "class CustomException(Exception):\n",
    "    pass\n",
    "\n",
    "def divide_numbers(a, b):\n",
    "    if b == 0:\n",
    "        raise CustomException(\"Error: Division by zero!\")\n",
    "    return a / b\n",
    "\n",
    "try:\n",
    "    result = divide_numbers(10, 0)\n",
    "    print(result)\n",
    "except CustomException as e:\n",
    "    print(e)"
   ]
  },
  {
   "cell_type": "markdown",
   "id": "f094eb28-0920-4a51-8fff-88bde0136b44",
   "metadata": {},
   "source": [
    "4. What are some common exceptions that are built-in to Python?"
   ]
  },
  {
   "cell_type": "code",
   "execution_count": 1,
   "id": "4f64fcd8-de6d-4de5-aeed-a87e3df70a43",
   "metadata": {},
   "outputs": [
    {
     "name": "stdout",
     "output_type": "stream",
     "text": [
      "Exception: The base class for all exceptions in Python\n",
      "SyntaxError: Raised when a syntax error is encountered while parsing Python code\n",
      "TypeError: Raised when an operation or function is performed on an object of an inappropriate type\n",
      "NameError: Raised when a local or global name is not found\n",
      "ValueError: Raised when a function receives an argument of the correct type but an invalid value\n",
      "ZeroDivisionError: Raised when division or modulo operation is performed with a divisor of zero\n",
      "IndexError: Raised when a sequence subscript is out of range\n",
      "KeyError: Raised when a dictionary key is not found\n",
      "FileNotFoundError: Raised when a file or directory is requested but cannot be found\n",
      "IOError: Raised when an input/output operation fails\n",
      "AttributeError: Raised when an attribute reference or assignment fails\n",
      "ImportError: Raised when an import statement fails to find and load a module\n",
      "OverflowError: Raised when the result of an arithmetic operation is too large to be expressed in the available numeric type\n",
      "MemoryError: Raised when an operation runs out of memory\n",
      "KeyboardInterrupt: Raised when the user interrupts the execution of a program, usually by pressing Ctrl+C\n"
     ]
    }
   ],
   "source": [
    "# Answer \n",
    "\n",
    "print(\"Exception: The base class for all exceptions in Python\")\n",
    "print(\"SyntaxError: Raised when a syntax error is encountered while parsing Python code\")\n",
    "print(\"TypeError: Raised when an operation or function is performed on an object of an inappropriate type\")\n",
    "print(\"NameError: Raised when a local or global name is not found\")\n",
    "print(\"ValueError: Raised when a function receives an argument of the correct type but an invalid value\")\n",
    "print(\"ZeroDivisionError: Raised when division or modulo operation is performed with a divisor of zero\")\n",
    "print(\"IndexError: Raised when a sequence subscript is out of range\")\n",
    "print(\"KeyError: Raised when a dictionary key is not found\")\n",
    "print(\"FileNotFoundError: Raised when a file or directory is requested but cannot be found\")\n",
    "print(\"IOError: Raised when an input/output operation fails\")\n",
    "print(\"AttributeError: Raised when an attribute reference or assignment fails\")\n",
    "print(\"ImportError: Raised when an import statement fails to find and load a module\")\n",
    "print(\"OverflowError: Raised when the result of an arithmetic operation is too large to be expressed in the available numeric type\")\n",
    "print(\"MemoryError: Raised when an operation runs out of memory\")\n",
    "print(\"KeyboardInterrupt: Raised when the user interrupts the execution of a program, usually by pressing Ctrl+C\")"
   ]
  },
  {
   "cell_type": "markdown",
   "id": "3fc59229-1f57-469f-ba54-dc07301e6533",
   "metadata": {},
   "source": [
    "5. What is logging in Python, and why is it important in software development?"
   ]
  },
  {
   "cell_type": "code",
   "execution_count": null,
   "id": "c8d1654e-bc18-4a23-86b8-f8634250dd7e",
   "metadata": {},
   "outputs": [],
   "source": [
    "print(\"In Python, logging refers to the process of recording events, messages, and information during the execution of a program\")\n",
    "print(\"It allows developers to collect valuable information about the runtime behavior of their software applications\")\n",
    "print(\"The Python logging module provides a flexible way to incorporate logging functionality into Python programs\")"
   ]
  },
  {
   "cell_type": "markdown",
   "id": "45e6301a-a66b-499c-adba-33f0377d5798",
   "metadata": {},
   "source": [
    "6. Explain the purpose of log levels in Python logging and provide examples of when each log level would be appropriate."
   ]
  },
  {
   "cell_type": "code",
   "execution_count": 2,
   "id": "a33770d7-7ef0-44d2-9c16-f801e2d3180a",
   "metadata": {},
   "outputs": [
    {
     "name": "stdout",
     "output_type": "stream",
     "text": [
      "In Python logging, log levels are used to categorize and prioritize log messages based on their severity or importance\n",
      "Each log level corresponds to a specific level of severity, allowing developers to filter and handle log messages based on their desired level of detail\n",
      "The logging module in Python provides several built-in log levels, each serving a specific purpose\n",
      "1. Debug\n",
      "2. Info\n",
      "3. Warning\n",
      "4. Error\n",
      "5. Critical\n"
     ]
    }
   ],
   "source": [
    "print(\"In Python logging, log levels are used to categorize and prioritize log messages based on their severity or importance\")\n",
    "print(\"Each log level corresponds to a specific level of severity, allowing developers to filter and handle log messages based on their desired level of detail\")\n",
    "print(\"The logging module in Python provides several built-in log levels, each serving a specific purpose\")\n",
    "print(\"1. Debug\\n2. Info\\n3. Warning\\n4. Error\\n5. Critical\")"
   ]
  },
  {
   "cell_type": "markdown",
   "id": "892ba576-6da6-4b1e-a5a9-e2b7085ed728",
   "metadata": {},
   "source": [
    "7. What are log formatters in Python logging, and how can you customise the log message format using formatters?"
   ]
  },
  {
   "cell_type": "code",
   "execution_count": 4,
   "id": "6b655934-10d5-40a0-85d4-8b2eff92bbc7",
   "metadata": {},
   "outputs": [
    {
     "name": "stderr",
     "output_type": "stream",
     "text": [
      "2023-07-16 21:50:23,533 - __main__ - INFO - This is an info message\n",
      "2023-07-16 21:50:23,533 - __main__ - INFO - This is an info message\n",
      "2023-07-16 21:50:23,533 - __main__ - INFO - This is an info message\n",
      "2023-07-16 21:50:23,533 - __main__ - INFO - This is an info message\n",
      "2023-07-16 21:50:23,536 - __main__ - WARNING - This is a warning message\n",
      "2023-07-16 21:50:23,536 - __main__ - WARNING - This is a warning message\n",
      "2023-07-16 21:50:23,536 - __main__ - WARNING - This is a warning message\n",
      "2023-07-16 21:50:23,536 - __main__ - WARNING - This is a warning message\n"
     ]
    }
   ],
   "source": [
    "# Answer\n",
    "\n",
    "print('Customise the log message format using formatters')\n",
    "\n",
    "import logging\n",
    "def main():\n",
    "    logging.basicConfig(level=logging.DEBUG, filename='app1.log', filemode='w')\n",
    "    formatter = logging.Formatter('%(asctime)s - %(name)s - %(levelname)s - %(message)s')\n",
    "    logger = logging.getLogger(__name__)\n",
    "    handler = logging.StreamHandler()\n",
    "    handler.setFormatter(formatter)\n",
    "    logger.addHandler(handler)\n",
    "    logger.info('This is an info message')\n",
    "    logger.warning('This is a warning message')\n",
    "\n",
    "if __name__ == '__main__':\n",
    "    main()"
   ]
  },
  {
   "cell_type": "markdown",
   "id": "1158ff69-ba65-4810-9eb8-a884609989e6",
   "metadata": {},
   "source": [
    "8. How can you set up logging to capture log messages from multiple modules or classes in a Python application?"
   ]
  },
  {
   "cell_type": "code",
   "execution_count": 6,
   "id": "52ee99e1-4e67-4e52-9e77-7637908f3ef8",
   "metadata": {},
   "outputs": [
    {
     "name": "stderr",
     "output_type": "stream",
     "text": [
      "2023-07-16 21:54:57,529 - __main__ - DEBUG - This is a debug message\n",
      "2023-07-16 21:54:57,529 - __main__ - DEBUG - This is a debug message\n",
      "2023-07-16 21:54:57,529 - __main__ - DEBUG - This is a debug message\n",
      "2023-07-16 21:54:57,529 - __main__ - DEBUG - This is a debug message\n",
      "2023-07-16 21:54:57,532 - __main__ - INFO - This is an info message\n",
      "2023-07-16 21:54:57,532 - __main__ - INFO - This is an info message\n",
      "2023-07-16 21:54:57,532 - __main__ - INFO - This is an info message\n",
      "2023-07-16 21:54:57,532 - __main__ - INFO - This is an info message\n",
      "2023-07-16 21:54:57,535 - __main__ - WARNING - This is a warning message\n",
      "2023-07-16 21:54:57,535 - __main__ - WARNING - This is a warning message\n",
      "2023-07-16 21:54:57,535 - __main__ - WARNING - This is a warning message\n",
      "2023-07-16 21:54:57,535 - __main__ - WARNING - This is a warning message\n",
      "2023-07-16 21:54:57,543 - __main__ - ERROR - This is an error message\n",
      "2023-07-16 21:54:57,543 - __main__ - ERROR - This is an error message\n",
      "2023-07-16 21:54:57,543 - __main__ - ERROR - This is an error message\n",
      "2023-07-16 21:54:57,543 - __main__ - ERROR - This is an error message\n",
      "2023-07-16 21:54:57,546 - __main__ - CRITICAL - This is a critical message\n",
      "2023-07-16 21:54:57,546 - __main__ - CRITICAL - This is a critical message\n",
      "2023-07-16 21:54:57,546 - __main__ - CRITICAL - This is a critical message\n",
      "2023-07-16 21:54:57,546 - __main__ - CRITICAL - This is a critical message\n"
     ]
    }
   ],
   "source": [
    "# Answer\n",
    "\n",
    "print('Below example program shows to capture log messages from multiple modules or classes in a python application')\n",
    "import logging\n",
    "\n",
    "def main():\n",
    "    logging.basicConfig(level=logging.DEBUG, filename='app.log', filemode='w',\n",
    "                    format='%(asctime)s - %(name)s - %(levelname)s - %(message)s')\n",
    "    logger = logging.getLogger(__name__)\n",
    "    logger.debug('This is a debug message')\n",
    "    logger.info('This is an info message')\n",
    "    logger.warning('This is a warning message')\n",
    "    logger.error('This is an error message')\n",
    "    logger.critical('This is a critical message')\n",
    "    \n",
    "if __name__ == '__main__':\n",
    "    main()"
   ]
  },
  {
   "cell_type": "markdown",
   "id": "35baf8bd-afda-418d-b4a7-04cd06596b51",
   "metadata": {},
   "source": [
    "9. What is the difference between the logging and print statements in Python? When should you use logging over print statements in a real-world application?"
   ]
  },
  {
   "cell_type": "code",
   "execution_count": null,
   "id": "4de1ddf5-72b0-40a0-85d1-67bb1a954d25",
   "metadata": {},
   "outputs": [],
   "source": [
    "# Answer \n",
    "\n",
    "print('In print statement the output will be printed')\n",
    "print('In logging part while running application the logs can be generated and it could be saved in the backend.')"
   ]
  },
  {
   "cell_type": "markdown",
   "id": "e51a3131-04a3-4151-8885-e947dad2f30a",
   "metadata": {},
   "source": [
    "10. Write a Python program that logs a message to a file named \"app.log\" with the following requirements:\n",
    "● The log message should be \"Hello, World!\"\n",
    "● The log level should be set to \"INFO.\"\n",
    "● The log file should append new log entries without overwriting previous ones."
   ]
  },
  {
   "cell_type": "code",
   "execution_count": 1,
   "id": "4dde9377-fe7c-4765-9ea2-d24122a313c9",
   "metadata": {},
   "outputs": [
    {
     "name": "stdout",
     "output_type": "stream",
     "text": [
      "program that logs a message to a file 'app.log' file\n"
     ]
    }
   ],
   "source": [
    "# Answer \n",
    "print(\"program that logs a message to a file 'app.log' file\")\n",
    "import logging\n",
    "\n",
    "def main():\n",
    "    # Configure logging\n",
    "    logging.basicConfig(filename='app.log',\n",
    "                        level=logging.INFO,\n",
    "                        format='%(asctime)s - %(levelname)s - %(message)s',\n",
    "                        filemode='a')\n",
    "\n",
    "    logger = logging.getLogger(__name__)\n",
    "    logger.info(\"Hello, World!\")\n",
    "\n",
    "if __name__ == '__main__':\n",
    "    main()\n"
   ]
  },
  {
   "cell_type": "markdown",
   "id": "92854ed8-0a23-4172-abac-45ffdba70ed9",
   "metadata": {},
   "source": [
    "11. Create a Python program that logs an error message to the console and a file named\n",
    "\"errors.log\" if an exception occurs during the program's execution. The error\n",
    "message should include the exception type and a timestamp."
   ]
  },
  {
   "cell_type": "code",
   "execution_count": 7,
   "id": "0273cce7-3c9a-4a13-8f2d-09604756460e",
   "metadata": {},
   "outputs": [
    {
     "name": "stderr",
     "output_type": "stream",
     "text": [
      "2023-07-11 18:41:32,729 - ERROR - Exception: ValueError, Timestamp: 2023-07-11 18:41:32\n"
     ]
    },
    {
     "name": "stdout",
     "output_type": "stream",
     "text": [
      "program that logs an error messages to the console and file name 'errors.log' also created\n"
     ]
    }
   ],
   "source": [
    "# Answer\n",
    "\n",
    "print(\"program that logs an error messages to the console and file name 'errors.log' also created\")\n",
    "import logging\n",
    "import datetime\n",
    "\n",
    "def main():\n",
    "    logging.basicConfig(level=logging.DEBUG,\n",
    "                        format='%(asctime)s - %(levelname)s - %(message)s',\n",
    "                        handlers=[\n",
    "                            logging.FileHandler('errors.log'),\n",
    "                            logging.StreamHandler()\n",
    "                        ])\n",
    "\n",
    "    logger = logging.getLogger(__name__)\n",
    "\n",
    "    try:\n",
    "        raise ValueError(\"An error occurred\")\n",
    "    except Exception as e:\n",
    "        timestamp = datetime.datetime.now().strftime(\"%Y-%m-%d %H:%M:%S\")\n",
    "        error_message = f\"Exception: {type(e).__name__}, Timestamp: {timestamp}\"\n",
    "        logger.error(error_message)\n",
    "\n",
    "if __name__ == '__main__':\n",
    "    main()"
   ]
  },
  {
   "cell_type": "code",
   "execution_count": null,
   "id": "4cb1ec5f-7649-4ca7-80b2-3c3db9a44560",
   "metadata": {},
   "outputs": [],
   "source": []
  }
 ],
 "metadata": {
  "kernelspec": {
   "display_name": "Python 3 (ipykernel)",
   "language": "python",
   "name": "python3"
  },
  "language_info": {
   "codemirror_mode": {
    "name": "ipython",
    "version": 3
   },
   "file_extension": ".py",
   "mimetype": "text/x-python",
   "name": "python",
   "nbconvert_exporter": "python",
   "pygments_lexer": "ipython3",
   "version": "3.10.6"
  }
 },
 "nbformat": 4,
 "nbformat_minor": 5
}
